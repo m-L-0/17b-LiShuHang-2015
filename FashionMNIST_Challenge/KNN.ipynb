{
 "cells": [
  {
   "cell_type": "markdown",
   "metadata": {},
   "source": [
    "## 3. 设计并训练KNN算法对图片进行分类。"
   ]
  },
  {
   "cell_type": "code",
   "execution_count": 1,
   "metadata": {},
   "outputs": [
    {
     "name": "stderr",
     "output_type": "stream",
     "text": [
      "/home/vbuo/.linuxbrew/Cellar/python3/3.6.3/lib/python3.6/importlib/_bootstrap.py:219: RuntimeWarning: compiletime version 3.5 of module 'tensorflow.python.framework.fast_tensor_util' does not match runtime version 3.6\n",
      "  return f(*args, **kwds)\n"
     ]
    }
   ],
   "source": [
    "import tensorflow as tf\n",
    "import numpy as np\n",
    "from tensorflow.examples.tutorials.mnist import input_data"
   ]
  },
  {
   "cell_type": "code",
   "execution_count": 2,
   "metadata": {},
   "outputs": [
    {
     "name": "stdout",
     "output_type": "stream",
     "text": [
      "Extracting /home/vbuo/fashion-mnist/data/fashion/train-images-idx3-ubyte.gz\n",
      "Extracting /home/vbuo/fashion-mnist/data/fashion/train-labels-idx1-ubyte.gz\n",
      "Extracting /home/vbuo/fashion-mnist/data/fashion/t10k-images-idx3-ubyte.gz\n",
      "Extracting /home/vbuo/fashion-mnist/data/fashion/t10k-labels-idx1-ubyte.gz\n"
     ]
    }
   ],
   "source": [
    "# 导入数据\n",
    "mnist = input_data.read_data_sets(\n",
    "    \"/home/vbuo/fashion-mnist/data/fashion\", one_hot=True)"
   ]
  },
  {
   "cell_type": "code",
   "execution_count": 3,
   "metadata": {},
   "outputs": [],
   "source": [
    "# 设置ｋ值\n",
    "k = 7\n",
    "# 设置训练样本数\n",
    "test_num = 1000"
   ]
  },
  {
   "cell_type": "code",
   "execution_count": 4,
   "metadata": {},
   "outputs": [],
   "source": [
    "# 获取训练和测试样本的图片及标记\n",
    "train_images, train_labels = mnist.train.next_batch(55000)\n",
    "test_images, test_labels = mnist.test.next_batch(test_num)\n",
    "# 转换数据类型\n",
    "x_train = tf.placeholder(tf.float32)\n",
    "x_test = tf.placeholder(tf.float32)\n",
    "y_train = tf.placeholder(tf.float32)"
   ]
  },
  {
   "cell_type": "code",
   "execution_count": 5,
   "metadata": {},
   "outputs": [],
   "source": [
    "# 欧式距离\n",
    "euclidean_distance = tf.sqrt(tf.reduce_sum(tf.square(x_train - x_test), 1))\n",
    "# 计算最相近的k个样本的索引\n",
    "_, nearest_index = tf.nn.top_k(-euclidean_distance, k)"
   ]
  },
  {
   "cell_type": "code",
   "execution_count": null,
   "metadata": {},
   "outputs": [
    {
     "name": "stdout",
     "output_type": "stream",
     "text": [
      "step is 0 accuracy is 0.0000\n",
      "step is 200 accuracy is 0.8507\n",
      "step is 400 accuracy is 0.8603\n"
     ]
    }
   ],
   "source": [
    "# 开启会话\n",
    "with tf.Session() as sess:\n",
    "    sess.run(tf.global_variables_initializer())\n",
    "    predicted_num = 0\n",
    "    # 对每个图片进行预测\n",
    "    for i in range(test_images.shape[0]):\n",
    "        # 最近k个样本的标记索引\n",
    "        nearest_index_res = sess.run(\n",
    "            nearest_index,\n",
    "            feed_dict={\n",
    "                x_train: train_images,\n",
    "                y_train: train_labels,\n",
    "                x_test: test_images[i]\n",
    "            })\n",
    "        # 最近k个样本的标记\n",
    "        nearest_label = []\n",
    "        for j in range(k):\n",
    "            nearest_label.append(list(train_labels[nearest_index_res[j]]))\n",
    "        predicted_class = sess.run(\n",
    "            tf.argmax(tf.reduce_sum(nearest_label, 0), 0))\n",
    "        true_class = sess.run(tf.argmax(test_labels[i]))\n",
    "        if predicted_class == true_class:\n",
    "            predicted_num += 1\n",
    "        if i % 200 == 0:\n",
    "            print('step is %d accuracy is %.4f' % (i, predicted_num / (i + 1)))\n",
    "print('accuracy is %.4f' % (predicted_num / test_num))"
   ]
  }
 ],
 "metadata": {
  "kernelspec": {
   "display_name": "Python 3",
   "language": "python",
   "name": "python3"
  },
  "language_info": {
   "codemirror_mode": {
    "name": "ipython",
    "version": 3
   },
   "file_extension": ".py",
   "mimetype": "text/x-python",
   "name": "python",
   "nbconvert_exporter": "python",
   "pygments_lexer": "ipython3",
   "version": "3.6.3"
  }
 },
 "nbformat": 4,
 "nbformat_minor": 2
}
