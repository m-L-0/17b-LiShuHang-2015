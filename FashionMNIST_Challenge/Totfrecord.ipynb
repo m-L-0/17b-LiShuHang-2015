{
 "cells": [
  {
   "cell_type": "markdown",
   "metadata": {},
   "source": [
    "## 1. 将数据集划分成训练集、验证集、测试集并存储成TFRecord文件。"
   ]
  },
  {
   "cell_type": "code",
   "execution_count": 1,
   "metadata": {},
   "outputs": [
    {
     "name": "stderr",
     "output_type": "stream",
     "text": [
      "/home/vbuo/.linuxbrew/Cellar/python3/3.6.3/lib/python3.6/importlib/_bootstrap.py:219: RuntimeWarning: compiletime version 3.5 of module 'tensorflow.python.framework.fast_tensor_util' does not match runtime version 3.6\n",
      "  return f(*args, **kwds)\n"
     ]
    }
   ],
   "source": [
    "import tensorflow as tf\n",
    "from tensorflow.examples.tutorials.mnist import input_data\n",
    "import numpy as np"
   ]
  },
  {
   "cell_type": "code",
   "execution_count": 2,
   "metadata": {},
   "outputs": [],
   "source": [
    "# 把传入的value转化为整数型的属性，int64_list对应着 tf.train.Example 的定义\n",
    "def _int64_feature(value):\n",
    "    return tf.train.Feature(int64_list=tf.train.Int64List(value=[value]))\n",
    "\n",
    "# 把传入的value转化为字符串型的属性，bytes_list对应着 tf.train.Example 的定义\n",
    "def _bytes_feature(value):\n",
    "    return tf.train.Feature(bytes_list=tf.train.BytesList(value=[value]))"
   ]
  },
  {
   "cell_type": "code",
   "execution_count": 3,
   "metadata": {},
   "outputs": [
    {
     "name": "stdout",
     "output_type": "stream",
     "text": [
      "Extracting ../m-L-0/data/fashion/train-images-idx3-ubyte.gz\n",
      "Extracting ../m-L-0/data/fashion/train-labels-idx1-ubyte.gz\n",
      "Extracting ../m-L-0/data/fashion/t10k-images-idx3-ubyte.gz\n",
      "Extracting ../m-L-0/data/fashion/t10k-labels-idx1-ubyte.gz\n"
     ]
    }
   ],
   "source": [
    "# 读取fashion-mnist训练集数据\n",
    "fashionmnist = input_data.read_data_sets(\n",
    "    \"../m-L-0/data/fashion\",\n",
    "    dtype=tf.uint8,\n",
    "    one_hot=True)\n",
    "# 训练数据的图像,作为一个属性来存储\n",
    "images = fashionmnist.train.images\n",
    "# 训练数据所对应的正确答案,作为一个属性来存储\n",
    "labels = fashionmnist.train.labels\n",
    "# 训练数据的图像分辨率,可以作为一个属性来存储\n",
    "pixels = images.shape[0]\n",
    "# 训练数据的个数\n",
    "num_examples = fashionmnist.train.num_examples\n",
    "# 写入TFRecord文件的地址\n",
    "filename = \"../m-L-0/CC/train.tfrecords\"\n",
    "# 创建一个writer来写TFRecord文件\n",
    "writer = tf.python_io.TFRecordWriter(filename)\n",
    "for index in range(num_examples):\n",
    "    # 把图像矩阵转化为字符串\n",
    "    image_raw = images[index].tostring()\n",
    "    # 将一个样例转化为Example Protocol Buffer，并将所有的信息写入这个数据结构\n",
    "    example = tf.train.Example(features=tf.train.Features(\n",
    "        feature={\n",
    "            'pixels': _int64_feature(pixels),\n",
    "            'label': _int64_feature(np.argmax(labels[index])),\n",
    "            'image_raw': _bytes_feature(image_raw)\n",
    "        }))\n",
    "    # 将 Example 写入TFRecord文件\n",
    "    writer.write(example.SerializeToString())\n",
    "writer.close()"
   ]
  },
  {
   "cell_type": "code",
   "execution_count": 4,
   "metadata": {},
   "outputs": [
    {
     "name": "stdout",
     "output_type": "stream",
     "text": [
      "Extracting ../m-L-0/data/fashion/train-images-idx3-ubyte.gz\n",
      "Extracting ../m-L-0/data/fashion/train-labels-idx1-ubyte.gz\n",
      "Extracting ../m-L-0/data/fashion/t10k-images-idx3-ubyte.gz\n",
      "Extracting ../m-L-0/data/fashion/t10k-labels-idx1-ubyte.gz\n",
      "数据转换成功\n"
     ]
    }
   ],
   "source": [
    "# 读取fashion-mnist测试集数据\n",
    "fashionmnist = input_data.read_data_sets(\n",
    "    \"../m-L-0/data/fashion\",\n",
    "    dtype=tf.uint8,\n",
    "    one_hot=True)\n",
    "# 测试数据的图像,作为一个属性来存储\n",
    "images = fashionmnist.test.images\n",
    "# 测试数据所对应的正确答案,作为一个属性来存储\n",
    "labels = fashionmnist.test.labels\n",
    "# 测试数据的图像分辨率,作为一个属性来存储\n",
    "pixels = images.shape[0]\n",
    "# 测试数据的个数\n",
    "num_examples = fashionmnist.test.num_examples\n",
    "# 写入TFRecord文件的地址\n",
    "filename = \"../m-L-0/CC/test.tfrecords\"\n",
    "# 创建一个writer来写TFRecord文件  无标题文档\n",
    "writer = tf.python_io.TFRecordWriter(filename)\n",
    "for index in range(num_examples):\n",
    "    # 把图像矩阵转化为字符串\n",
    "    image_raw = images[index].tostring()\n",
    "    # 将一个样例转化为Example Protocol Buffer，并将所有的信息写入这个数据结构\n",
    "    example = tf.train.Example(features=tf.train.Features(\n",
    "        feature={\n",
    "            'pixels': _int64_feature(pixels),\n",
    "            'label': _int64_feature(np.argmax(labels[index])),\n",
    "            'image_raw': _bytes_feature(image_raw)\n",
    "        }))\n",
    "    # 将 Example 写入TFRecord文件\n",
    "    writer.write(example.SerializeToString())\n",
    "writer.close()\n",
    "print('数据转换成功')"
   ]
  }
 ],
 "metadata": {
  "kernelspec": {
   "display_name": "Python 3",
   "language": "python",
   "name": "python3"
  },
  "language_info": {
   "codemirror_mode": {
    "name": "ipython",
    "version": 3
   },
   "file_extension": ".py",
   "mimetype": "text/x-python",
   "name": "python",
   "nbconvert_exporter": "python",
   "pygments_lexer": "ipython3",
   "version": "3.6.3"
  }
 },
 "nbformat": 4,
 "nbformat_minor": 2
}
