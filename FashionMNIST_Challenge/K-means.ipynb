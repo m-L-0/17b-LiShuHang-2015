{
 "cells": [
  {
   "cell_type": "markdown",
   "metadata": {},
   "source": [
    "## 4. 设计并训练K-Means算法对图片进行聚类。"
   ]
  },
  {
   "cell_type": "code",
   "execution_count": 1,
   "metadata": {},
   "outputs": [
    {
     "name": "stderr",
     "output_type": "stream",
     "text": [
      "/home/vbuo/.linuxbrew/Cellar/python3/3.6.3/lib/python3.6/importlib/_bootstrap.py:219: RuntimeWarning: compiletime version 3.5 of module 'tensorflow.python.framework.fast_tensor_util' does not match runtime version 3.6\n",
      "  return f(*args, **kwds)\n"
     ]
    }
   ],
   "source": [
    "from numpy import *\n",
    "import matplotlib.pyplot as plt\n",
    "from tensorflow.examples.tutorials.mnist import input_data\n",
    "from sklearn.manifold import TSNE"
   ]
  },
  {
   "cell_type": "code",
   "execution_count": 2,
   "metadata": {},
   "outputs": [],
   "source": [
    "# 计算两个向量之间的距离\n",
    "def euclDistance(vector1, vector2):\n",
    "    # vector1,vector2是向量才能相加减,python中一维向量用矩阵表示\n",
    "    return sqrt(sum(power(vector2 - vector1, 2)))"
   ]
  },
  {
   "cell_type": "code",
   "execution_count": 3,
   "metadata": {},
   "outputs": [],
   "source": [
    "# 选择原始簇中心\n",
    "def initCentroids(dataSet, k):\n",
    "    numSamples, dim = dataSet.shape  #返回矩阵的行和列\n",
    "    centroids = zeros((k, dim))  #centroids存储每个簇心的坐标\n",
    "    for i in range(k):\n",
    "        index = int(random.uniform(0, numSamples))\n",
    "        centroids[i, :] = dataSet[index, :]\n",
    "    return centroids"
   ]
  },
  {
   "cell_type": "code",
   "execution_count": 4,
   "metadata": {},
   "outputs": [],
   "source": [
    "# k-means cluster\n",
    "def kmeans(dataSet, k):  #dataSet=[[1 2][3 4][5 6]...]\n",
    "    numSamples = dataSet.shape[0]\n",
    "    # clusterAssment第一列存储对应样本点属于哪一个簇,第二列是该点到簇中心的距离平方和\n",
    "    clusterAssment = mat(zeros((numSamples, 2)))\n",
    "    clusterChanged = True\n",
    "\n",
    "    # step 1:找出初始点\n",
    "    centroids = initCentroids(dataSet, k)\n",
    "    while clusterChanged:\n",
    "        # clusterChanged标记簇中心是否改变\n",
    "        clusterChanged = False\n",
    "\n",
    "        # step 2:对于每个样本点,计算它与每个簇之间的距离,距离最小划分为它归属的簇\n",
    "        for i in range(numSamples):\n",
    "            minDist = inf  #inf是numpy中的一个常量,表示无穷大\n",
    "            minIndex = 0\n",
    "\n",
    "            for j in range(k):\n",
    "                distance = euclDistance(centroids[j, :], dataSet[i, :])\n",
    "                if distance < minDist:\n",
    "                    minDist = distance\n",
    "                    minIndex = j\n",
    "\n",
    "            # step 3:判断该样本点所属的簇是否改变,若改变记下它与簇中心之间的距离\n",
    "            if clusterAssment[i,\n",
    "                              0] != minIndex:  #clusterAssment[i, 0]是原先该样本所属的簇中心,minIndex是新样本点所属的簇中心\n",
    "                clusterChanged = True  #簇中心已发生改变\n",
    "                clusterAssment[i, :] = minIndex, minDist**2\n",
    "\n",
    "        # step 4:更新簇中心\n",
    "        for j in range(k):\n",
    "            pointsInCluster = dataSet[nonzero(clusterAssment[:, 0].A == j)[\n",
    "                0]]  #clusterAssment[:,0].A将clusterAssment[:,0]矩阵转换成数组\n",
    "            # nonzero(a)函数将对矩阵a的所有非零元素,分别从两个维度(行和列)看,非0元素对应的行坐标放在一个列表中,对应的列坐标放在一个列表中,然后一起返回!\n",
    "            # clusterAssment[:, 0].A ==j将对应的元素编程True和False了,所以nonzero(clusterAssment[:, 0].A == j)[0]最终将该簇的点\n",
    "            centroids[j, :] = mean(\n",
    "                pointsInCluster, axis=0)  #选项axis=0表示沿矩阵的列方向进行均值计算\n",
    "\n",
    "    print('Congratulations, cluster complete!')\n",
    "    return centroids, clusterAssment"
   ]
  },
  {
   "cell_type": "code",
   "execution_count": 5,
   "metadata": {},
   "outputs": [],
   "source": [
    "# show your cluster only available with 2-D data\n",
    "def showCluster(dataSet, k, centroids, clusterAssment):\n",
    "    numSamples, dim = dataSet.shape\n",
    "    if dim != 2:\n",
    "        print(\n",
    "            \"Sorry! I can not draw because the dimension of your data is not 2!\"\n",
    "        )\n",
    "        return 1\n",
    "\n",
    "    mark = ['or', 'ob', 'og', 'ok', '^r', '+r', 'sr', 'dr', '<r', 'pr']\n",
    "    if k > len(mark):\n",
    "        print(\"Sorry! Your k is too large!\")\n",
    "        return 1\n",
    "\n",
    "    # draw all samples\n",
    "    for i in range(numSamples):\n",
    "        markIndex = int(clusterAssment[i, 0])\n",
    "        plt.plot(dataSet[i, 0], dataSet[i, 1], mark[markIndex])\n",
    "    mark = ['Dr', 'Db', 'Dg', 'Dk', '^b', '+b', 'sb', 'db', '<b', 'pb']\n",
    "    # draw the centroids\n",
    "    for i in range(k):\n",
    "        plt.plot(centroids[i, 0], centroids[i, 1], mark[i], markersize=12)\n",
    "    plt.show()"
   ]
  },
  {
   "cell_type": "code",
   "execution_count": 6,
   "metadata": {},
   "outputs": [
    {
     "name": "stdout",
     "output_type": "stream",
     "text": [
      "请输入要参与聚类的图片数量(0~55000)：1000\n",
      "step 1: load data...\n",
      "Extracting ../m-L-0/data/fashion/train-images-idx3-ubyte.gz\n",
      "Extracting ../m-L-0/data/fashion/train-labels-idx1-ubyte.gz\n",
      "Extracting ../m-L-0/data/fashion/t10k-images-idx3-ubyte.gz\n",
      "Extracting ../m-L-0/data/fashion/t10k-labels-idx1-ubyte.gz\n"
     ]
    }
   ],
   "source": [
    "train_num = int(input('请输入要参与聚类的图片数量(0~55000)：'))\n",
    "## step 1: load data\n",
    "print(\"step 1: load data...\")\n",
    "mnist = input_data.read_data_sets('../m-L-0/data/fashion', one_hot=True)\n",
    "train_images = mnist.train.images\n",
    "# print(train_images)\n",
    "dataMat = TSNE().fit_transform(train_images[:train_num])"
   ]
  },
  {
   "cell_type": "code",
   "execution_count": 7,
   "metadata": {},
   "outputs": [
    {
     "name": "stdout",
     "output_type": "stream",
     "text": [
      "step 2: clustering...\n",
      "Congratulations, cluster complete!\n",
      "[[ -7.79217434 -29.7522049 ]\n",
      " [  0.75725698  33.99850082]\n",
      " [-27.56761551  -2.40484595]\n",
      " [ 23.19097328 -14.7977438 ]\n",
      " [ -1.97402835 -12.47327042]\n",
      " [ 11.18908405  -1.4575094 ]\n",
      " [-12.65474129  30.93631744]\n",
      " [ 33.60665512   6.43542147]\n",
      " [ -6.21284437  18.3930912 ]\n",
      " [-25.19878006  23.93130493]]\n",
      "[[   0.           72.93049614]\n",
      " [   5.          198.60522866]\n",
      " [   6.           34.12945231]\n",
      " ..., \n",
      " [   5.          150.16850773]\n",
      " [   1.           49.70790446]\n",
      " [   3.          215.60648968]]\n"
     ]
    }
   ],
   "source": [
    "# step 2: clustering...\n",
    "print(\"step 2: clustering...\")\n",
    "k = 10\n",
    "centroids, clusterAssment = kmeans(dataMat, k)\n",
    "print(centroids)\n",
    "print(clusterAssment)"
   ]
  },
  {
   "cell_type": "code",
   "execution_count": 8,
   "metadata": {},
   "outputs": [
    {
     "name": "stdout",
     "output_type": "stream",
     "text": [
      "step 3: show the result...\n"
     ]
    },
    {
     "data": {
      "image/png": "[encoded data removed]",
      "text/plain": [
       "<matplotlib.figure.Figure at 0x7f7706452240>"
      ]
     },
     "metadata": {},
     "output_type": "display_data"
    }
   ],
   "source": [
    "# step 3: show the result\n",
    "print(\"step 3: show the result...\")\n",
    "showCluster(dataMat, k, centroids, clusterAssment)"
   ]
  }
 ],
 "metadata": {
  "kernelspec": {
   "display_name": "Python 3",
   "language": "python",
   "name": "python3"
  },
  "language_info": {
   "codemirror_mode": {
    "name": "ipython",
    "version": 3
   },
   "file_extension": ".py",
   "mimetype": "text/x-python",
   "name": "python",
   "nbconvert_exporter": "python",
   "pygments_lexer": "ipython3",
   "version": "3.6.3"
  }
 },
 "nbformat": 4,
 "nbformat_minor": 2
}
